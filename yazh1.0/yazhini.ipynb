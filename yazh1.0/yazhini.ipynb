{
 "cells": [
  {
   "cell_type": "markdown",
   "id": "35158fd2",
   "metadata": {},
   "source": [
    "# **For Audio Preprocessing**"
   ]
  },
  {
   "cell_type": "code",
   "execution_count": 1,
   "id": "62a91fae",
   "metadata": {},
   "outputs": [
    {
     "name": "stdout",
     "output_type": "stream",
     "text": [
      "Found 34 files\n"
     ]
    }
   ],
   "source": [
    "import os\n",
    "import glob\n",
    "\n",
    "# Windows-style path\n",
    "folder_path = r\"C:\\Users\\sreem\\OneDrive\\Documents\\Yazh\\yazh1.0\\audio\"\n",
    "\n",
    "# Get all .wav file paths\n",
    "file_paths = glob.glob(os.path.join(folder_path, \"*.wav\"))\n",
    "\n",
    "# Optional: print file names\n",
    "print(\"Found\", len(file_paths), \"files\")\n"
   ]
  },
  {
   "cell_type": "code",
   "execution_count": 2,
   "id": "0a587ab6",
   "metadata": {},
   "outputs": [],
   "source": [
    "import os\n",
    "\n",
    "# Use file name (e.g., song1.wav → \"song1\") as label\n",
    "labels = [os.path.splitext(os.path.basename(path))[0] for path in file_paths]\n"
   ]
  },
  {
   "cell_type": "code",
   "execution_count": 3,
   "id": "a884a905",
   "metadata": {},
   "outputs": [],
   "source": [
    "import librosa\n",
    "import numpy as np\n",
    "\n",
    "def preprocess_audio_librosa(file_path, sr=16000, duration=5.0):\n",
    "    y, _ = librosa.load(file_path, sr=sr, mono=True, duration=duration)\n",
    "    y = y / (np.max(np.abs(y)) + 1e-9)\n",
    "    desired_length = int(sr * duration)\n",
    "    if len(y) < desired_length:\n",
    "        y = np.pad(y, (0, desired_length - len(y)))\n",
    "    else:\n",
    "        y = y[:desired_length]\n",
    "    return y\n",
    "\n",
    "# Apply to all files\n",
    "audio_clips = [preprocess_audio_librosa(fp) for fp in file_paths]\n"
   ]
  },
  {
   "cell_type": "code",
   "execution_count": 5,
   "id": "bd8737e5",
   "metadata": {},
   "outputs": [
    {
     "name": "stdout",
     "output_type": "stream",
     "text": [
      "Requirement already satisfied: librosa in c:\\users\\sreem\\appdata\\local\\programs\\python\\python310\\lib\\site-packages (0.11.0)\n",
      "Requirement already satisfied: numba>=0.51.0 in c:\\users\\sreem\\appdata\\local\\programs\\python\\python310\\lib\\site-packages (from librosa) (0.61.2)\n",
      "Requirement already satisfied: joblib>=1.0 in c:\\users\\sreem\\appdata\\local\\programs\\python\\python310\\lib\\site-packages (from librosa) (1.5.1)\n",
      "Requirement already satisfied: scipy>=1.6.0 in c:\\users\\sreem\\appdata\\local\\programs\\python\\python310\\lib\\site-packages (from librosa) (1.15.3)\n",
      "Requirement already satisfied: decorator>=4.3.0 in c:\\users\\sreem\\appdata\\roaming\\python\\python310\\site-packages (from librosa) (5.2.1)\n",
      "Requirement already satisfied: soundfile>=0.12.1 in c:\\users\\sreem\\appdata\\local\\programs\\python\\python310\\lib\\site-packages (from librosa) (0.13.1)\n",
      "Requirement already satisfied: audioread>=2.1.9 in c:\\users\\sreem\\appdata\\local\\programs\\python\\python310\\lib\\site-packages (from librosa) (3.0.1)\n",
      "Requirement already satisfied: numpy>=1.22.3 in c:\\users\\sreem\\appdata\\local\\programs\\python\\python310\\lib\\site-packages (from librosa) (2.1.3)\n",
      "Requirement already satisfied: pooch>=1.1 in c:\\users\\sreem\\appdata\\local\\programs\\python\\python310\\lib\\site-packages (from librosa) (1.8.2)\n",
      "Requirement already satisfied: soxr>=0.3.2 in c:\\users\\sreem\\appdata\\local\\programs\\python\\python310\\lib\\site-packages (from librosa) (0.5.0.post1)\n",
      "Requirement already satisfied: lazy_loader>=0.1 in c:\\users\\sreem\\appdata\\local\\programs\\python\\python310\\lib\\site-packages (from librosa) (0.4)\n",
      "Requirement already satisfied: scikit-learn>=1.1.0 in c:\\users\\sreem\\appdata\\local\\programs\\python\\python310\\lib\\site-packages (from librosa) (1.6.1)\n",
      "Requirement already satisfied: msgpack>=1.0 in c:\\users\\sreem\\appdata\\local\\programs\\python\\python310\\lib\\site-packages (from librosa) (1.1.0)\n",
      "Requirement already satisfied: typing_extensions>=4.1.1 in c:\\users\\sreem\\appdata\\roaming\\python\\python310\\site-packages (from librosa) (4.14.0)\n",
      "Requirement already satisfied: packaging in c:\\users\\sreem\\appdata\\roaming\\python\\python310\\site-packages (from lazy_loader>=0.1->librosa) (25.0)\n",
      "Requirement already satisfied: llvmlite<0.45,>=0.44.0dev0 in c:\\users\\sreem\\appdata\\local\\programs\\python\\python310\\lib\\site-packages (from numba>=0.51.0->librosa) (0.44.0)\n",
      "Requirement already satisfied: platformdirs>=2.5.0 in c:\\users\\sreem\\appdata\\roaming\\python\\python310\\site-packages (from pooch>=1.1->librosa) (4.3.8)\n",
      "Requirement already satisfied: requests>=2.19.0 in c:\\users\\sreem\\appdata\\local\\programs\\python\\python310\\lib\\site-packages (from pooch>=1.1->librosa) (2.32.3)\n",
      "Requirement already satisfied: threadpoolctl>=3.1.0 in c:\\users\\sreem\\appdata\\local\\programs\\python\\python310\\lib\\site-packages (from scikit-learn>=1.1.0->librosa) (3.6.0)\n",
      "Requirement already satisfied: cffi>=1.0 in c:\\users\\sreem\\appdata\\local\\programs\\python\\python310\\lib\\site-packages (from soundfile>=0.12.1->librosa) (1.17.1)\n",
      "Requirement already satisfied: pycparser in c:\\users\\sreem\\appdata\\local\\programs\\python\\python310\\lib\\site-packages (from cffi>=1.0->soundfile>=0.12.1->librosa) (2.22)\n",
      "Requirement already satisfied: urllib3<3,>=1.21.1 in c:\\users\\sreem\\appdata\\local\\programs\\python\\python310\\lib\\site-packages (from requests>=2.19.0->pooch>=1.1->librosa) (2.4.0)\n",
      "Requirement already satisfied: idna<4,>=2.5 in c:\\users\\sreem\\appdata\\local\\programs\\python\\python310\\lib\\site-packages (from requests>=2.19.0->pooch>=1.1->librosa) (3.10)\n",
      "Requirement already satisfied: certifi>=2017.4.17 in c:\\users\\sreem\\appdata\\local\\programs\\python\\python310\\lib\\site-packages (from requests>=2.19.0->pooch>=1.1->librosa) (2025.4.26)\n",
      "Requirement already satisfied: charset-normalizer<4,>=2 in c:\\users\\sreem\\appdata\\local\\programs\\python\\python310\\lib\\site-packages (from requests>=2.19.0->pooch>=1.1->librosa) (3.4.2)\n",
      "Note: you may need to restart the kernel to use updated packages.\n"
     ]
    },
    {
     "name": "stderr",
     "output_type": "stream",
     "text": [
      "\n",
      "[notice] A new release of pip available: 22.3.1 -> 25.1.1\n",
      "[notice] To update, run: python.exe -m pip install --upgrade pip\n"
     ]
    }
   ],
   "source": [
    "%pip install librosa\n"
   ]
  },
  {
   "cell_type": "code",
   "execution_count": 6,
   "id": "0126468d",
   "metadata": {},
   "outputs": [],
   "source": [
    "from sklearn.preprocessing import LabelEncoder\n",
    "import tensorflow as tf\n",
    "\n",
    "label_encoder = LabelEncoder()\n",
    "encoded_labels = label_encoder.fit_transform(labels)\n",
    "\n",
    "audio_clips = np.array(audio_clips, dtype=np.float32)\n",
    "encoded_labels = np.array(encoded_labels, dtype=np.int32)\n",
    "\n",
    "# Build TensorFlow dataset\n",
    "dataset = tf.data.Dataset.from_tensor_slices((audio_clips, encoded_labels))\n",
    "dataset = dataset.shuffle(buffer_size=len(audio_clips)).batch(16).prefetch(tf.data.AUTOTUNE)\n"
   ]
  },
  {
   "cell_type": "code",
   "execution_count": 8,
   "id": "2ab74697",
   "metadata": {},
   "outputs": [
    {
     "name": "stdout",
     "output_type": "stream",
     "text": [
      "Note: you may need to restart the kernel to use updated packages.\n",
      "Collecting tensorflow\n",
      "  Using cached tensorflow-2.19.0-cp310-cp310-win_amd64.whl (375.7 MB)\n",
      "Requirement already satisfied: numpy<2.2.0,>=1.26.0 in c:\\users\\sreem\\appdata\\local\\programs\\python\\python310\\lib\\site-packages (from tensorflow) (2.1.3)\n",
      "Collecting astunparse>=1.6.0\n",
      "  Using cached astunparse-1.6.3-py2.py3-none-any.whl (12 kB)\n",
      "Collecting keras>=3.5.0\n",
      "  Using cached keras-3.10.0-py3-none-any.whl (1.4 MB)\n",
      "Requirement already satisfied: protobuf!=4.21.0,!=4.21.1,!=4.21.2,!=4.21.3,!=4.21.4,!=4.21.5,<6.0.0dev,>=3.20.3 in c:\\users\\sreem\\appdata\\local\\programs\\python\\python310\\lib\\site-packages (from tensorflow) (5.29.5)\n",
      "Requirement already satisfied: wrapt>=1.11.0 in c:\\users\\sreem\\appdata\\local\\programs\\python\\python310\\lib\\site-packages (from tensorflow) (1.17.2)\n",
      "Collecting grpcio<2.0,>=1.24.3\n",
      "  Using cached grpcio-1.72.1-cp310-cp310-win_amd64.whl (4.2 MB)\n",
      "Requirement already satisfied: six>=1.12.0 in c:\\users\\sreem\\appdata\\roaming\\python\\python310\\site-packages (from tensorflow) (1.17.0)\n",
      "Collecting h5py>=3.11.0\n",
      "  Using cached h5py-3.13.0-cp310-cp310-win_amd64.whl (3.0 MB)\n",
      "Requirement already satisfied: tensorflow-io-gcs-filesystem>=0.23.1 in c:\\users\\sreem\\appdata\\local\\programs\\python\\python310\\lib\\site-packages (from tensorflow) (0.31.0)\n",
      "Collecting google-pasta>=0.1.1\n",
      "  Using cached google_pasta-0.2.0-py3-none-any.whl (57 kB)\n",
      "Requirement already satisfied: packaging in c:\\users\\sreem\\appdata\\roaming\\python\\python310\\site-packages (from tensorflow) (25.0)\n",
      "Collecting gast!=0.5.0,!=0.5.1,!=0.5.2,>=0.2.1\n",
      "  Using cached gast-0.6.0-py3-none-any.whl (21 kB)\n",
      "Requirement already satisfied: termcolor>=1.1.0 in c:\\users\\sreem\\appdata\\local\\programs\\python\\python310\\lib\\site-packages (from tensorflow) (3.1.0)\n",
      "Requirement already satisfied: typing-extensions>=3.6.6 in c:\\users\\sreem\\appdata\\roaming\\python\\python310\\site-packages (from tensorflow) (4.14.0)\n",
      "Requirement already satisfied: requests<3,>=2.21.0 in c:\\users\\sreem\\appdata\\local\\programs\\python\\python310\\lib\\site-packages (from tensorflow) (2.32.3)\n",
      "Requirement already satisfied: flatbuffers>=24.3.25 in c:\\users\\sreem\\appdata\\local\\programs\\python\\python310\\lib\\site-packages (from tensorflow) (25.2.10)\n",
      "Collecting tensorboard~=2.19.0\n",
      "  Using cached tensorboard-2.19.0-py3-none-any.whl (5.5 MB)\n",
      "Collecting ml-dtypes<1.0.0,>=0.5.1\n",
      "  Using cached ml_dtypes-0.5.1-cp310-cp310-win_amd64.whl (209 kB)\n",
      "Requirement already satisfied: setuptools in c:\\users\\sreem\\appdata\\local\\programs\\python\\python310\\lib\\site-packages (from tensorflow) (65.5.0)\n",
      "Requirement already satisfied: opt-einsum>=2.3.2 in c:\\users\\sreem\\appdata\\local\\programs\\python\\python310\\lib\\site-packages (from tensorflow) (3.4.0)\n",
      "Collecting absl-py>=1.0.0\n",
      "  Using cached absl_py-2.3.0-py3-none-any.whl (135 kB)\n",
      "Requirement already satisfied: libclang>=13.0.0 in c:\\users\\sreem\\appdata\\local\\programs\\python\\python310\\lib\\site-packages (from tensorflow) (18.1.1)\n",
      "Requirement already satisfied: wheel<1.0,>=0.23.0 in c:\\users\\sreem\\appdata\\local\\programs\\python\\python310\\lib\\site-packages (from astunparse>=1.6.0->tensorflow) (0.45.1)\n",
      "Collecting rich\n",
      "  Using cached rich-14.0.0-py3-none-any.whl (243 kB)\n",
      "Requirement already satisfied: namex in c:\\users\\sreem\\appdata\\local\\programs\\python\\python310\\lib\\site-packages (from keras>=3.5.0->tensorflow) (0.1.0)\n",
      "Requirement already satisfied: optree in c:\\users\\sreem\\appdata\\local\\programs\\python\\python310\\lib\\site-packages (from keras>=3.5.0->tensorflow) (0.16.0)\n",
      "Requirement already satisfied: urllib3<3,>=1.21.1 in c:\\users\\sreem\\appdata\\local\\programs\\python\\python310\\lib\\site-packages (from requests<3,>=2.21.0->tensorflow) (2.4.0)\n",
      "Requirement already satisfied: idna<4,>=2.5 in c:\\users\\sreem\\appdata\\local\\programs\\python\\python310\\lib\\site-packages (from requests<3,>=2.21.0->tensorflow) (3.10)\n",
      "Requirement already satisfied: charset-normalizer<4,>=2 in c:\\users\\sreem\\appdata\\local\\programs\\python\\python310\\lib\\site-packages (from requests<3,>=2.21.0->tensorflow) (3.4.2)\n",
      "Requirement already satisfied: certifi>=2017.4.17 in c:\\users\\sreem\\appdata\\local\\programs\\python\\python310\\lib\\site-packages (from requests<3,>=2.21.0->tensorflow) (2025.4.26)\n",
      "Collecting werkzeug>=1.0.1\n",
      "  Using cached werkzeug-3.1.3-py3-none-any.whl (224 kB)\n",
      "Collecting markdown>=2.6.8\n",
      "  Using cached markdown-3.8-py3-none-any.whl (106 kB)\n",
      "Requirement already satisfied: tensorboard-data-server<0.8.0,>=0.7.0 in c:\\users\\sreem\\appdata\\local\\programs\\python\\python310\\lib\\site-packages (from tensorboard~=2.19.0->tensorflow) (0.7.2)\n",
      "Collecting MarkupSafe>=2.1.1\n",
      "  Using cached MarkupSafe-3.0.2-cp310-cp310-win_amd64.whl (15 kB)\n",
      "Requirement already satisfied: pygments<3.0.0,>=2.13.0 in c:\\users\\sreem\\appdata\\roaming\\python\\python310\\site-packages (from rich->keras>=3.5.0->tensorflow) (2.19.1)\n",
      "Collecting markdown-it-py>=2.2.0\n",
      "  Using cached markdown_it_py-3.0.0-py3-none-any.whl (87 kB)\n",
      "Collecting mdurl~=0.1\n",
      "  Using cached mdurl-0.1.2-py3-none-any.whl (10.0 kB)\n",
      "Installing collected packages: ml-dtypes, mdurl, MarkupSafe, markdown, h5py, grpcio, google-pasta, gast, astunparse, absl-py, werkzeug, markdown-it-py, tensorboard, rich, keras, tensorflow\n",
      "Successfully installed MarkupSafe-3.0.2 absl-py-2.3.0 astunparse-1.6.3 gast-0.6.0 google-pasta-0.2.0 grpcio-1.72.1 h5py-3.13.0 keras-3.10.0 markdown-3.8 markdown-it-py-3.0.0 mdurl-0.1.2 ml-dtypes-0.5.1 rich-14.0.0 tensorboard-2.19.0 tensorflow-2.19.0 werkzeug-3.1.3\n"
     ]
    },
    {
     "name": "stderr",
     "output_type": "stream",
     "text": [
      "  WARNING: The script markdown_py.exe is installed in 'c:\\Users\\sreem\\AppData\\Local\\Programs\\Python\\Python310\\Scripts' which is not on PATH.\n",
      "  Consider adding this directory to PATH or, if you prefer to suppress this warning, use --no-warn-script-location.\n",
      "  WARNING: The script markdown-it.exe is installed in 'c:\\Users\\sreem\\AppData\\Local\\Programs\\Python\\Python310\\Scripts' which is not on PATH.\n",
      "  Consider adding this directory to PATH or, if you prefer to suppress this warning, use --no-warn-script-location.\n",
      "  WARNING: The script tensorboard.exe is installed in 'c:\\Users\\sreem\\AppData\\Local\\Programs\\Python\\Python310\\Scripts' which is not on PATH.\n",
      "  Consider adding this directory to PATH or, if you prefer to suppress this warning, use --no-warn-script-location.\n",
      "  WARNING: The scripts import_pb_to_tensorboard.exe, saved_model_cli.exe, tensorboard.exe, tf_upgrade_v2.exe, tflite_convert.exe and toco.exe are installed in 'c:\\Users\\sreem\\AppData\\Local\\Programs\\Python\\Python310\\Scripts' which is not on PATH.\n",
      "  Consider adding this directory to PATH or, if you prefer to suppress this warning, use --no-warn-script-location.\n",
      "\n",
      "[notice] A new release of pip available: 22.3.1 -> 25.1.1\n",
      "[notice] To update, run: python.exe -m pip install --upgrade pip\n"
     ]
    }
   ],
   "source": [
    "%pip install tensorflow"
   ]
  },
  {
   "cell_type": "code",
   "execution_count": 9,
   "id": "236daaba",
   "metadata": {},
   "outputs": [
    {
     "name": "stdout",
     "output_type": "stream",
     "text": [
      "Note: you may need to restart the kernel to use updated packages.\n"
     ]
    },
    {
     "name": "stderr",
     "output_type": "stream",
     "text": [
      "WARNING: Skipping tensorflow as it is not installed.\n"
     ]
    },
    {
     "name": "stdout",
     "output_type": "stream",
     "text": [
      "Files removed: 2\n",
      "Note: you may need to restart the kernel to use updated packages.\n",
      "Collecting tensorflowNote: you may need to restart the kernel to use updated packages.\n",
      "\n",
      "  Downloading tensorflow-2.19.0-cp310-cp310-win_amd64.whl (375.7 MB)\n",
      "     -------------------------------------- 375.7/375.7 MB 1.4 MB/s eta 0:00:00\n",
      "Requirement already satisfied: six>=1.12.0 in c:\\users\\sreem\\appdata\\roaming\\python\\python310\\site-packages (from tensorflow) (1.17.0)\n",
      "Requirement already satisfied: flatbuffers>=24.3.25 in c:\\users\\sreem\\appdata\\local\\programs\\python\\python310\\lib\\site-packages (from tensorflow) (25.2.10)\n",
      "Requirement already satisfied: keras>=3.5.0 in c:\\users\\sreem\\appdata\\local\\programs\\python\\python310\\lib\\site-packages (from tensorflow) (3.10.0)\n",
      "Requirement already satisfied: libclang>=13.0.0 in c:\\users\\sreem\\appdata\\local\\programs\\python\\python310\\lib\\site-packages (from tensorflow) (18.1.1)\n",
      "Requirement already satisfied: requests<3,>=2.21.0 in c:\\users\\sreem\\appdata\\local\\programs\\python\\python310\\lib\\site-packages (from tensorflow) (2.32.3)\n",
      "Requirement already satisfied: protobuf!=4.21.0,!=4.21.1,!=4.21.2,!=4.21.3,!=4.21.4,!=4.21.5,<6.0.0dev,>=3.20.3 in c:\\users\\sreem\\appdata\\local\\programs\\python\\python310\\lib\\site-packages (from tensorflow) (5.29.5)\n",
      "Requirement already satisfied: google-pasta>=0.1.1 in c:\\users\\sreem\\appdata\\local\\programs\\python\\python310\\lib\\site-packages (from tensorflow) (0.2.0)\n",
      "Requirement already satisfied: opt-einsum>=2.3.2 in c:\\users\\sreem\\appdata\\local\\programs\\python\\python310\\lib\\site-packages (from tensorflow) (3.4.0)\n",
      "Requirement already satisfied: tensorboard~=2.19.0 in c:\\users\\sreem\\appdata\\local\\programs\\python\\python310\\lib\\site-packages (from tensorflow) (2.19.0)\n",
      "Requirement already satisfied: numpy<2.2.0,>=1.26.0 in c:\\users\\sreem\\appdata\\local\\programs\\python\\python310\\lib\\site-packages (from tensorflow) (2.1.3)\n",
      "Requirement already satisfied: astunparse>=1.6.0 in c:\\users\\sreem\\appdata\\local\\programs\\python\\python310\\lib\\site-packages (from tensorflow) (1.6.3)\n",
      "Requirement already satisfied: tensorflow-io-gcs-filesystem>=0.23.1 in c:\\users\\sreem\\appdata\\local\\programs\\python\\python310\\lib\\site-packages (from tensorflow) (0.31.0)\n",
      "Requirement already satisfied: typing-extensions>=3.6.6 in c:\\users\\sreem\\appdata\\roaming\\python\\python310\\site-packages (from tensorflow) (4.14.0)\n",
      "Requirement already satisfied: termcolor>=1.1.0 in c:\\users\\sreem\\appdata\\local\\programs\\python\\python310\\lib\\site-packages (from tensorflow) (3.1.0)\n",
      "Requirement already satisfied: wrapt>=1.11.0 in c:\\users\\sreem\\appdata\\local\\programs\\python\\python310\\lib\\site-packages (from tensorflow) (1.17.2)\n",
      "Requirement already satisfied: setuptools in c:\\users\\sreem\\appdata\\local\\programs\\python\\python310\\lib\\site-packages (from tensorflow) (65.5.0)\n",
      "Requirement already satisfied: ml-dtypes<1.0.0,>=0.5.1 in c:\\users\\sreem\\appdata\\local\\programs\\python\\python310\\lib\\site-packages (from tensorflow) (0.5.1)\n",
      "Requirement already satisfied: absl-py>=1.0.0 in c:\\users\\sreem\\appdata\\local\\programs\\python\\python310\\lib\\site-packages (from tensorflow) (2.3.0)\n",
      "Requirement already satisfied: gast!=0.5.0,!=0.5.1,!=0.5.2,>=0.2.1 in c:\\users\\sreem\\appdata\\local\\programs\\python\\python310\\lib\\site-packages (from tensorflow) (0.6.0)\n",
      "Requirement already satisfied: grpcio<2.0,>=1.24.3 in c:\\users\\sreem\\appdata\\local\\programs\\python\\python310\\lib\\site-packages (from tensorflow) (1.72.1)\n",
      "Requirement already satisfied: h5py>=3.11.0 in c:\\users\\sreem\\appdata\\local\\programs\\python\\python310\\lib\\site-packages (from tensorflow) (3.13.0)\n",
      "Requirement already satisfied: packaging in c:\\users\\sreem\\appdata\\roaming\\python\\python310\\site-packages (from tensorflow) (25.0)\n",
      "Requirement already satisfied: wheel<1.0,>=0.23.0 in c:\\users\\sreem\\appdata\\local\\programs\\python\\python310\\lib\\site-packages (from astunparse>=1.6.0->tensorflow) (0.45.1)\n",
      "Requirement already satisfied: namex in c:\\users\\sreem\\appdata\\local\\programs\\python\\python310\\lib\\site-packages (from keras>=3.5.0->tensorflow) (0.1.0)\n",
      "Requirement already satisfied: rich in c:\\users\\sreem\\appdata\\local\\programs\\python\\python310\\lib\\site-packages (from keras>=3.5.0->tensorflow) (14.0.0)\n",
      "Requirement already satisfied: optree in c:\\users\\sreem\\appdata\\local\\programs\\python\\python310\\lib\\site-packages (from keras>=3.5.0->tensorflow) (0.16.0)\n",
      "Requirement already satisfied: certifi>=2017.4.17 in c:\\users\\sreem\\appdata\\local\\programs\\python\\python310\\lib\\site-packages (from requests<3,>=2.21.0->tensorflow) (2025.4.26)\n",
      "Requirement already satisfied: idna<4,>=2.5 in c:\\users\\sreem\\appdata\\local\\programs\\python\\python310\\lib\\site-packages (from requests<3,>=2.21.0->tensorflow) (3.10)\n",
      "Requirement already satisfied: urllib3<3,>=1.21.1 in c:\\users\\sreem\\appdata\\local\\programs\\python\\python310\\lib\\site-packages (from requests<3,>=2.21.0->tensorflow) (2.4.0)\n",
      "Requirement already satisfied: charset-normalizer<4,>=2 in c:\\users\\sreem\\appdata\\local\\programs\\python\\python310\\lib\\site-packages (from requests<3,>=2.21.0->tensorflow) (3.4.2)\n",
      "Requirement already satisfied: werkzeug>=1.0.1 in c:\\users\\sreem\\appdata\\local\\programs\\python\\python310\\lib\\site-packages (from tensorboard~=2.19.0->tensorflow) (3.1.3)\n",
      "Requirement already satisfied: markdown>=2.6.8 in c:\\users\\sreem\\appdata\\local\\programs\\python\\python310\\lib\\site-packages (from tensorboard~=2.19.0->tensorflow) (3.8)\n",
      "Requirement already satisfied: tensorboard-data-server<0.8.0,>=0.7.0 in c:\\users\\sreem\\appdata\\local\\programs\\python\\python310\\lib\\site-packages (from tensorboard~=2.19.0->tensorflow) (0.7.2)\n",
      "Requirement already satisfied: MarkupSafe>=2.1.1 in c:\\users\\sreem\\appdata\\local\\programs\\python\\python310\\lib\\site-packages (from werkzeug>=1.0.1->tensorboard~=2.19.0->tensorflow) (3.0.2)\n",
      "Requirement already satisfied: pygments<3.0.0,>=2.13.0 in c:\\users\\sreem\\appdata\\roaming\\python\\python310\\site-packages (from rich->keras>=3.5.0->tensorflow) (2.19.1)\n",
      "Requirement already satisfied: markdown-it-py>=2.2.0 in c:\\users\\sreem\\appdata\\local\\programs\\python\\python310\\lib\\site-packages (from rich->keras>=3.5.0->tensorflow) (3.0.0)\n",
      "Requirement already satisfied: mdurl~=0.1 in c:\\users\\sreem\\appdata\\local\\programs\\python\\python310\\lib\\site-packages (from markdown-it-py>=2.2.0->rich->keras>=3.5.0->tensorflow) (0.1.2)\n",
      "Installing collected packages: tensorflow\n"
     ]
    },
    {
     "name": "stderr",
     "output_type": "stream",
     "text": [
      "ERROR: Could not install packages due to an OSError: [WinError 32] The process cannot access the file because it is being used by another process: 'c:\\\\Users\\\\sreem\\\\AppData\\\\Local\\\\Programs\\\\Python\\\\Python310\\\\Lib\\\\site-packages\\\\tensorflow\\\\core\\\\framework\\\\cpp_shape_inference_pb2.py'\n",
      "Consider using the `--user` option or check the permissions.\n",
      "\n",
      "\n",
      "[notice] A new release of pip available: 22.3.1 -> 25.1.1\n",
      "[notice] To update, run: python.exe -m pip install --upgrade pip\n"
     ]
    }
   ],
   "source": [
    "%pip uninstall tensorflow -y\n",
    "%pip cache purge\n",
    "%pip install tensorflow --upgrade\n",
    "\n"
   ]
  },
  {
   "cell_type": "code",
   "execution_count": 10,
   "id": "c7323d47",
   "metadata": {},
   "outputs": [
    {
     "name": "stdout",
     "output_type": "stream",
     "text": [
      "Audio batch shape: (16, 80000)\n",
      "Label batch shape: (16,)\n",
      "First label batch: [21  7 30 31  8 14 25 20  1 29 28 11 22 19 18 24]\n",
      "First audio sample (first few values): [ 0.05426779  0.03880611  0.18904588  0.10134231  0.09906878  0.03747728\n",
      " -0.00796641  0.10105219  0.21702921  0.11483771]\n"
     ]
    }
   ],
   "source": [
    "for audio_batch, label_batch in dataset.take(1):\n",
    "    print(\"Audio batch shape:\", audio_batch.shape)\n",
    "    print(\"Label batch shape:\", label_batch.shape)\n",
    "    print(\"First label batch:\", label_batch.numpy())\n",
    "    print(\"First audio sample (first few values):\", audio_batch[0].numpy()[:10])\n"
   ]
  },
  {
   "cell_type": "code",
   "execution_count": 11,
   "id": "251fe624",
   "metadata": {},
   "outputs": [
    {
     "name": "stdout",
     "output_type": "stream",
     "text": [
      "Total samples: 34\n",
      "Labels: [23 25  1  7 12 19 24 13 28  6  2 26 22 11 31  4 21 18 14  8 29 27 33 32\n",
      "  0  9 15 16 30  3 20 10 17  5]\n"
     ]
    }
   ],
   "source": [
    "audio_np = []\n",
    "labels_np = []\n",
    "\n",
    "for x, y in dataset:\n",
    "    audio_np.append(x.numpy())\n",
    "    labels_np.append(y.numpy())\n",
    "\n",
    "audio_np = np.concatenate(audio_np, axis=0)\n",
    "labels_np = np.concatenate(labels_np, axis=0)\n",
    "\n",
    "print(\"Total samples:\", len(audio_np))\n",
    "print(\"Labels:\", labels_np)\n"
   ]
  },
  {
   "cell_type": "code",
   "execution_count": 12,
   "id": "6b62454d",
   "metadata": {},
   "outputs": [
    {
     "name": "stdout",
     "output_type": "stream",
     "text": [
      "Song name: Golden NeonNiteClub1\n",
      "Song name: The Hush#1\n",
      "Song name: keshi - less of you #2\n",
      "Song name:  2Back Up Friend\n",
      "Song name: Likhe Jo Khat #1\n"
     ]
    }
   ],
   "source": [
    "# Unbatch first to see individual samples\n",
    "for spec, label in dataset.unbatch().take(5):\n",
    "    label_value = tf.squeeze(label).numpy()  # Ensure it's scalar\n",
    "    song_name = label_encoder.inverse_transform([label_value])[0]\n",
    "    print(\"Song name:\", song_name)\n"
   ]
  },
  {
   "cell_type": "markdown",
   "id": "fb3416c2",
   "metadata": {},
   "source": [
    "Mel Spectrogram Conversion for Ease of Use\n"
   ]
  },
  {
   "cell_type": "code",
   "execution_count": 13,
   "id": "d96db4f8",
   "metadata": {},
   "outputs": [],
   "source": [
    "import librosa\n",
    "\n",
    "def extract_mel_spectrogram(waveform, sr=16000, n_mels=128):\n",
    "    S = librosa.feature.melspectrogram(y=waveform, sr=sr, n_mels=n_mels)\n",
    "    \n",
    "    S_dB = librosa.power_to_db(S, ref=np.max)\n",
    "    return S_dB\n"
   ]
  },
  {
   "cell_type": "code",
   "execution_count": 14,
   "id": "72a7a38a",
   "metadata": {},
   "outputs": [],
   "source": [
    "mel_specs = [extract_mel_spectrogram(waveform) for waveform in audio_clips]\n"
   ]
  },
  {
   "cell_type": "code",
   "execution_count": 16,
   "id": "356cd5b2",
   "metadata": {},
   "outputs": [
    {
     "name": "stderr",
     "output_type": "stream",
     "text": [
      "c:\\Users\\sreem\\AppData\\Local\\Programs\\Python\\Python310\\lib\\site-packages\\librosa\\core\\spectrum.py:266: UserWarning: n_fft=2048 is too large for input signal of length=157\n",
      "  warnings.warn(\n"
     ]
    }
   ],
   "source": [
    "padded_specs = [extract_mel_spectrogram(spec) for spec in mel_specs]\n",
    "padded_specs = tf.stack(padded_specs)  # Final shape: (num_samples, 128, 128, 1)\n"
   ]
  },
  {
   "cell_type": "code",
   "execution_count": 17,
   "id": "8dcfdccf",
   "metadata": {},
   "outputs": [],
   "source": [
    "from sklearn.preprocessing import LabelEncoder\n",
    "label_encoder = LabelEncoder()\n",
    "encoded_labels = label_encoder.fit_transform(labels)\n",
    "encoded_labels = tf.convert_to_tensor(encoded_labels, dtype=tf.int32)\n"
   ]
  },
  {
   "cell_type": "code",
   "execution_count": 18,
   "id": "f0f746e4",
   "metadata": {},
   "outputs": [],
   "source": [
    "dataset = tf.data.Dataset.from_tensor_slices((padded_specs, encoded_labels))\n",
    "dataset = dataset.shuffle(buffer_size=len(padded_specs)).batch(16).prefetch(tf.data.AUTOTUNE)\n"
   ]
  },
  {
   "cell_type": "code",
   "execution_count": null,
   "id": "48ef738d",
   "metadata": {},
   "outputs": [],
   "source": []
  },
  {
   "cell_type": "code",
   "execution_count": 19,
   "id": "11a86d79",
   "metadata": {},
   "outputs": [],
   "source": [
    "import tensorflow as tf\n",
    "\n",
    "def pad_spectrogram(spec, target_shape=(128, 128)):\n",
    "    \"\"\"\n",
    "    Resize and pad Mel spectrogram to a fixed shape.\n",
    "    \n",
    "    Parameters:\n",
    "    - spec: 2D Mel spectrogram (time x freq)\n",
    "    - target_shape: Tuple (height, width) to pad/resize to\n",
    "    \n",
    "    Returns:\n",
    "    - Resized and padded spectrogram as a 3D tensor (height, width, 1)\n",
    "    \"\"\"\n",
    "    spec = tf.convert_to_tensor(spec, dtype=tf.float32)\n",
    "    # Add channel dimension -> (height, width, 1)\n",
    "    spec = spec[..., tf.newaxis]\n",
    "    # Resize with padding\n",
    "    spec = tf.image.resize_with_pad(spec, target_shape[0], target_shape[1])\n",
    "    return spec  # Shape: (128, 128, 1)\n"
   ]
  },
  {
   "cell_type": "code",
   "execution_count": 21,
   "id": "735d5ea5",
   "metadata": {},
   "outputs": [],
   "source": [
    "# mel_specs: list or np.array of 2D spectrograms (time x freq)\n",
    "\n",
    "padded_specs = [pad_spectrogram(spec) for spec in mel_specs]\n",
    "padded_specs = tf.stack(padded_specs)  # Shape: (num_samples, 128, 128, 1)\n",
    "\n",
    "# Convert labels\n",
    "labels_tensor = tf.convert_to_tensor(encoded_labels, dtype=tf.int32)\n",
    "\n",
    "# Build TensorFlow dataset\n",
    "dataset = tf.data.Dataset.from_tensor_slices((padded_specs, labels_tensor))\n",
    "dataset = dataset.shuffle(buffer_size=len(padded_specs)).batch(16).prefetch(tf.data.AUTOTUNE)\n"
   ]
  },
  {
   "cell_type": "code",
   "execution_count": 22,
   "id": "767b4740",
   "metadata": {},
   "outputs": [],
   "source": [
    "from tensorflow.keras import layers, models\n",
    "\n",
    "def build_cnn_lstm_model(input_shape, num_classes):\n",
    "    model = models.Sequential([\n",
    "        layers.Input(shape=input_shape),  # (128, 128)\n",
    "\n",
    "        # CNN layers\n",
    "        layers.Reshape((input_shape[0], input_shape[1], 1)),\n",
    "        layers.Conv2D(32, (3,3), activation='relu'),\n",
    "        layers.MaxPooling2D((2,2)),\n",
    "        layers.Conv2D(64, (3,3), activation='relu'),\n",
    "        layers.MaxPooling2D((2,2)),\n",
    "        layers.Reshape((-1, 64)),  # Flatten spatial dims, keep time\n",
    "\n",
    "        # LSTM layers\n",
    "        layers.LSTM(64),\n",
    "        layers.Dense(64, activation='relu'),\n",
    "        layers.Dense(num_classes, activation='softmax')\n",
    "    ])\n",
    "    return model\n"
   ]
  },
  {
   "cell_type": "code",
   "execution_count": 25,
   "id": "cb382c49",
   "metadata": {},
   "outputs": [
    {
     "name": "stdout",
     "output_type": "stream",
     "text": [
      "Epoch 1/10\n",
      "\u001b[1m3/3\u001b[0m \u001b[32m━━━━━━━━━━━━━━━━━━━━\u001b[0m\u001b[37m\u001b[0m \u001b[1m2s\u001b[0m 178ms/step - accuracy: 0.0381 - loss: 3.5285\n",
      "Epoch 2/10\n",
      "\u001b[1m3/3\u001b[0m \u001b[32m━━━━━━━━━━━━━━━━━━━━\u001b[0m\u001b[37m\u001b[0m \u001b[1m1s\u001b[0m 194ms/step - accuracy: 0.0607 - loss: 3.5291\n",
      "Epoch 3/10\n",
      "\u001b[1m3/3\u001b[0m \u001b[32m━━━━━━━━━━━━━━━━━━━━\u001b[0m\u001b[37m\u001b[0m \u001b[1m1s\u001b[0m 200ms/step - accuracy: 0.0000e+00 - loss: 3.5250\n",
      "Epoch 4/10\n",
      "\u001b[1m3/3\u001b[0m \u001b[32m━━━━━━━━━━━━━━━━━━━━\u001b[0m\u001b[37m\u001b[0m \u001b[1m1s\u001b[0m 197ms/step - accuracy: 0.0225 - loss: 3.5257\n",
      "Epoch 5/10\n",
      "\u001b[1m3/3\u001b[0m \u001b[32m━━━━━━━━━━━━━━━━━━━━\u001b[0m\u001b[37m\u001b[0m \u001b[1m1s\u001b[0m 191ms/step - accuracy: 0.0381 - loss: 3.5251\n",
      "Epoch 6/10\n",
      "\u001b[1m3/3\u001b[0m \u001b[32m━━━━━━━━━━━━━━━━━━━━\u001b[0m\u001b[37m\u001b[0m \u001b[1m1s\u001b[0m 198ms/step - accuracy: 0.0225 - loss: 3.5284\n",
      "Epoch 7/10\n",
      "\u001b[1m3/3\u001b[0m \u001b[32m━━━━━━━━━━━━━━━━━━━━\u001b[0m\u001b[37m\u001b[0m \u001b[1m1s\u001b[0m 197ms/step - accuracy: 0.0225 - loss: 3.5252\n",
      "Epoch 8/10\n",
      "\u001b[1m3/3\u001b[0m \u001b[32m━━━━━━━━━━━━━━━━━━━━\u001b[0m\u001b[37m\u001b[0m \u001b[1m1s\u001b[0m 191ms/step - accuracy: 0.0381 - loss: 3.5275\n",
      "Epoch 9/10\n",
      "\u001b[1m3/3\u001b[0m \u001b[32m━━━━━━━━━━━━━━━━━━━━\u001b[0m\u001b[37m\u001b[0m \u001b[1m1s\u001b[0m 189ms/step - accuracy: 0.0225 - loss: 3.5275\n",
      "Epoch 10/10\n",
      "\u001b[1m3/3\u001b[0m \u001b[32m━━━━━━━━━━━━━━━━━━━━\u001b[0m\u001b[37m\u001b[0m \u001b[1m1s\u001b[0m 191ms/step - accuracy: 0.0381 - loss: 3.5272\n"
     ]
    },
    {
     "data": {
      "text/plain": [
       "<keras.src.callbacks.history.History at 0x2de056df5e0>"
      ]
     },
     "execution_count": 25,
     "metadata": {},
     "output_type": "execute_result"
    }
   ],
   "source": [
    "model = build_cnn_lstm_model((128, 128), num_classes=len(label_encoder.classes_))\n",
    "model.compile(optimizer='adam', loss='sparse_categorical_crossentropy', metrics=['accuracy'])\n",
    "\n",
    "model.fit(dataset, epochs=10)\n"
   ]
  },
  {
   "cell_type": "code",
   "execution_count": 24,
   "id": "fbad852a",
   "metadata": {},
   "outputs": [
    {
     "name": "stderr",
     "output_type": "stream",
     "text": [
      "WARNING:absl:You are saving your model as an HDF5 file via `model.save()` or `keras.saving.save_model(model)`. This file format is considered legacy. We recommend using instead the native Keras format, e.g. `model.save('my_model.keras')` or `keras.saving.save_model(model, 'my_model.keras')`. \n"
     ]
    }
   ],
   "source": [
    "model.save(\"cnn_lstm_music_classifier.h5\")\n"
   ]
  },
  {
   "cell_type": "code",
   "execution_count": null,
   "id": "05ba7414",
   "metadata": {},
   "outputs": [],
   "source": []
  }
 ],
 "metadata": {
  "kernelspec": {
   "display_name": "Python 3",
   "language": "python",
   "name": "python3"
  },
  "language_info": {
   "codemirror_mode": {
    "name": "ipython",
    "version": 3
   },
   "file_extension": ".py",
   "mimetype": "text/x-python",
   "name": "python",
   "nbconvert_exporter": "python",
   "pygments_lexer": "ipython3",
   "version": "3.10.9"
  }
 },
 "nbformat": 4,
 "nbformat_minor": 5
}
